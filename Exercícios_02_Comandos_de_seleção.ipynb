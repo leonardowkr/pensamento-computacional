{
  "nbformat": 4,
  "nbformat_minor": 0,
  "metadata": {
    "colab": {
      "provenance": [],
      "authorship_tag": "ABX9TyOhdIaHlDlKIAfnR2AFiqVq"
    },
    "kernelspec": {
      "name": "python3",
      "display_name": "Python 3"
    },
    "language_info": {
      "name": "python"
    }
  },
  "cells": [
    {
      "cell_type": "markdown",
      "source": [
        "1 - Faça um algoritmo em Python para ler dois valores numéricos e apresentar a diferença do maior\n",
        "pelo menor."
      ],
      "metadata": {
        "id": "ncP-QwM2s6d4"
      }
    },
    {
      "cell_type": "code",
      "execution_count": null,
      "metadata": {
        "colab": {
          "base_uri": "https://localhost:8080/"
        },
        "id": "EGbOOjwhse44",
        "outputId": "70c3a710-b092-4ae0-ca7d-5b340ca92888"
      },
      "outputs": [
        {
          "output_type": "stream",
          "name": "stdout",
          "text": [
            "Insira o primeiro número 3.5\n",
            "Insira o segundo número 2.5\n",
            "A diferença entre os números 3.5  e  2.5  é de:  1.0\n"
          ]
        }
      ],
      "source": [
        "N1 = float(input(\"Insira o primeiro número \"))\n",
        "N2 = float(input(\"Insira o segundo número \"))\n",
        "dif = N1 - N2\n",
        "if (dif < 0):\n",
        "  dif = dif * (- 1)\n",
        "print (\"A diferença entre os números\", N1, \" e \", N2, \" é de: \", dif)\n"
      ]
    },
    {
      "cell_type": "markdown",
      "source": [
        "3 - Faça um algoritmo em Python para ler dois números. Se os números forem iguais escrever a\n",
        "mensagem: \"NÚMEROS IGUAIS\" e encerrar a execução; caso contrário, escrever o de maior\n",
        "valor."
      ],
      "metadata": {
        "id": "ap7DYE2Suah5"
      }
    },
    {
      "cell_type": "code",
      "source": [
        "N1 = float(input(\"Insira o primeiro número \"))\n",
        "N2 = float(input(\"Insira o segundo número \"))\n",
        "dif = N1 - N2\n",
        "if (N1 > N2):\n",
        "  print (\"O maior valor inserido é: \", N1)\n",
        "elif(N2>N1):\n",
        "  print (\"O maior valor inserido é: \", N2)\n",
        "else:\n",
        "  print (\"NÚMEROS IGUAIS.\")\n"
      ],
      "metadata": {
        "colab": {
          "base_uri": "https://localhost:8080/"
        },
        "id": "dmK48jXxucoR",
        "outputId": "2b0891d9-3f93-4b5b-d27f-11238525bf41"
      },
      "execution_count": null,
      "outputs": [
        {
          "output_type": "stream",
          "name": "stdout",
          "text": [
            "Insira o primeiro número 1\n",
            "Insira o segundo número 1\n",
            "NÚMEROS IGUAIS.\n"
          ]
        }
      ]
    },
    {
      "cell_type": "markdown",
      "source": [
        "3 - Faça um algoritmo em Python para ler dois valores: NUM1 e NUM2, e se NUM1 for maior que\n",
        "NUM2 executa a soma de NUM1 e NUM2; caso contrário, executa uma subtração."
      ],
      "metadata": {
        "id": "GA-Km3s4vSOA"
      }
    },
    {
      "cell_type": "code",
      "source": [
        "NUM1 = float(input(\"Insira o primeiro número \"))\n",
        "NUM2 = float(input(\"Insira o segundo número \"))\n",
        "dif = NUM1 - NUM2\n",
        "if (NUM1 > NUM2):\n",
        "  soma = NUM1 + NUM2\n",
        "  print (\"A soma de \", NUM1, \" + \", NUM2,\" = \", soma)\n",
        "elif(NUM2>NUM1):\n",
        "  subtracao = NUM1 - NUM2\n",
        "  print (\"A subtração de \", NUM1, \" - \", NUM2,\" = \", subtracao)\n"
      ],
      "metadata": {
        "colab": {
          "base_uri": "https://localhost:8080/"
        },
        "id": "iCMIQHfyvRyp",
        "outputId": "f1480f2a-ca09-44d1-a1be-aa900518a8f2"
      },
      "execution_count": null,
      "outputs": [
        {
          "output_type": "stream",
          "name": "stdout",
          "text": [
            "Insira o primeiro número 2\n",
            "Insira o segundo número 1\n",
            "A soma de  2.0  +  1.0  =  3.0\n"
          ]
        }
      ]
    },
    {
      "cell_type": "markdown",
      "source": [
        "4 - O hotel Pica-Pau cobra R$ 150,00 a diária e mais uma taxa de serviços. A taxa de serviços é de:\n",
        "\n",
        "*   R$ 15 por dia, se número de diárias <15\n",
        "\n",
        "*   R$ 10 por dia, se número de diárias =15\n",
        "\n",
        "*   R$ 5 por dia, se número de diárias >15\n",
        "\n",
        "Faça um algoritmo em Python que lê o número de diárias e calcula o total a ser pago pelo cliente."
      ],
      "metadata": {
        "id": "opf288E5wIpx"
      }
    },
    {
      "cell_type": "code",
      "source": [
        "diarias = int(input(\"Insira o número de diárias\"))\n",
        "valor_diarias = diarias * 150\n",
        "if(diarias > 0):\n",
        "\n",
        "  if(diarias<15):\n",
        "    tx_servico = diarias * 15\n",
        "  elif(diarias == 15):\n",
        "    tx_servico = diarias * 10\n",
        "  else:\n",
        "    tx_servico = diarias * 5\n",
        "total = tx_servico + valor_diarias\n",
        "print('O total a ser pago pelo cliente é: ', total)"
      ],
      "metadata": {
        "colab": {
          "base_uri": "https://localhost:8080/"
        },
        "id": "ucW7RR6PwR9R",
        "outputId": "4d7693cf-6ae6-4688-99c9-605d1a7ea101"
      },
      "execution_count": null,
      "outputs": [
        {
          "output_type": "stream",
          "name": "stdout",
          "text": [
            "Insira o número de diárias10\n",
            "O total a ser pago pelo cliente é:  1650\n"
          ]
        }
      ]
    },
    {
      "cell_type": "markdown",
      "source": [
        "Escrever um programa em Python que lê as 3 notas obtidas por ele em provas. Para\n",
        "cada aluno, calcular a média de aproveitamento, usando a fórmula:\n",
        "\n",
        "MA = (Nl + N2 + N3)\n",
        "3\n",
        "\n",
        "A atribuição de conceitos obedece à tabela abaixo:\n",
        "Média de Aproveitamento Conceito\n",
        "* >= 9.0 A\n",
        "* >= 7.5 e < 9.0 B\n",
        "* >= 6.0 e < 7.5 C\n",
        "* >= 4.0 e < 6.0 D\n",
        "* < 4.0 E\n",
        "\n",
        "O programa deve escrever as notas, a média de aproveitamento, o conceito\n",
        "correspondente e a mensagem: \"APROVADO\" se o conceito for A, B, ou C e\n",
        "\"REPROVADO\" se conceito for D ou E."
      ],
      "metadata": {
        "id": "85mLIyUfx1D6"
      }
    },
    {
      "cell_type": "code",
      "source": [
        "NOTA1 = int(input(\"Insira a primeira nota\"))\n",
        "NOTA2 = int(input(\"Insira a segunda nota\"))\n",
        "NOTA3 = int(input(\"Insira a terceira nota\"))\n",
        "MA = (NOTA1 + NOTA2 + NOTA3) / 3\n",
        "if(MA>=9.0):\n",
        "   print('\\nMédia de Aproveitamento Conceito: A')\n",
        "   print('APROVADO. Nota 1: ', NOTA1, ', Nota 2: ', NOTA2,'e Nota 3: ', NOTA3,'. Média de aproveitamento de: ', MA)\n",
        "elif(MA>=7.5 and MA< 9.0):\n",
        "  print('\\nMédia de Aproveitamento Conceito: B')\n",
        "  print('APROVADO. Nota 1: ', NOTA1, ', Nota 2: ', NOTA2,'e Nota 3: ', NOTA3,'. Média de aproveitamento de: ', MA)\n",
        "elif (MA>= 6.0 and MA< 7.5):\n",
        "  print('\\nMédia de Aproveitamento Conceito: C')\n",
        "  print('APROVADO. Nota 1: ', NOTA1, ', Nota 2: ', NOTA2,'e Nota 3: ', NOTA3,'. Média de aproveitamento de: ', MA)\n",
        "elif (MA>= 4.0 and MA < 6.0):\n",
        "  print('\\nMédia de Aproveitamento Conceito: D')\n",
        "  print('REPROVADO. Nota 1: ', NOTA1, ', Nota 2: ', NOTA2,'e Nota 3: ', NOTA3,'. Média de aproveitamento de: ', MA)\n",
        "else:\n",
        "  print('\\nMédia de Aproveitamento Conceito: E')\n",
        "  print('REPROVADO. Nota 1: ', NOTA1, ', Nota 2: ', NOTA2,'e Nota 3: ', NOTA3,'. Média de aproveitamento de: ', MA)\n"
      ],
      "metadata": {
        "colab": {
          "base_uri": "https://localhost:8080/"
        },
        "id": "HiB2Q17xxzoL",
        "outputId": "22fcaadf-fd68-4194-ad09-a5bebf5c6171"
      },
      "execution_count": null,
      "outputs": [
        {
          "output_type": "stream",
          "name": "stdout",
          "text": [
            "Insira a primeira nota1\n",
            "Insira a segunda nota1\n",
            "Insira a terceira nota1\n",
            "\n",
            "Média de Aproveitamento Conceito E\n",
            "REPROVADO. Nota 1:  1 , Nota 2:  1 e Nota 3:  1 . Média de aproveitamento de:  1.0\n"
          ]
        }
      ]
    },
    {
      "cell_type": "markdown",
      "source": [
        "6 - Faça um programa em Python que leia a altura e o sexo de uma pessoa, calcule seu\n",
        "peso ideal, utilizando as seguintes fórmulas:\n",
        "* homens : (72,7*altura) –58\n",
        "* mulheres : (62,1*altura) – 44,7"
      ],
      "metadata": {
        "id": "BUC-x1hW1yL9"
      }
    },
    {
      "cell_type": "code",
      "source": [
        "altura = float(input(\"Insira a altura (metros)\"))\n",
        "sexo = input(\"Insira a sexo da pessoa. 'M' para mulher e 'H' para homem\")\n",
        "if(sexo == 'H' or sexo == 'h'):\n",
        "  peso_ideal = (72.7*altura) - 58\n",
        "  print('\\nO peso ideal para homens de ', altura, 'm de altura é de: ', round(peso_ideal,1),'kg')\n",
        "elif(sexo == 'M' or sexo == 'm'):\n",
        "  peso_ideal = (62.1*altura) - 44.7\n",
        "  print('\\nO peso ideal para mulheres de ', altura, 'm de altura é de: ', round(peso_ideal,1),'kg')"
      ],
      "metadata": {
        "colab": {
          "base_uri": "https://localhost:8080/"
        },
        "id": "2u_jIGMx1vw-",
        "outputId": "9c8c2355-ae5d-4379-8ff4-a08db341d5fe"
      },
      "execution_count": null,
      "outputs": [
        {
          "output_type": "stream",
          "name": "stdout",
          "text": [
            "Insira a altura (metros)1.81\n",
            "Insira a sexo da pessoa. 'M' para mulher e 'H' para homemh\n",
            "O peso ideal para homens de  1.81 m de altura é de:  73.6 kg\n"
          ]
        }
      ]
    },
    {
      "cell_type": "markdown",
      "source": [
        "7 - Escrever um programa em Python que lê os seguintes dados de um funcionário: o\n",
        "número de horas trabalhadas e o valor que recebe por hora. Calcular e escrever, o salário\n",
        "bruto (SB) e o valor de desconto do Imposto de Renda (IR) como segue:\n",
        "\n",
        "● Se SB > 3.500,00 então IR = 15% do SB\n",
        "● Se SB > 1.500,00 e SB <= 3.500,00 então IR = 8% do SB\n",
        "● Se SB <= 1.500,00 então IR = 0."
      ],
      "metadata": {
        "id": "AbP1QQAg3xpI"
      }
    },
    {
      "cell_type": "code",
      "source": [
        "\n",
        "\n",
        "SB = float(input(\"Insira o valor do salário bruto\"))\n",
        "if(SB > 3500):\n",
        "  IR = 0.15\n",
        "elif(SB > 1500 and SB <= 3500):\n",
        "    IR = 0.08\n",
        "elif(SB <= 1500):\n",
        "    IR = 0\n",
        "SL = SB *(1 - IR)\n",
        "print('\\nO salário líquido do funcionário é de: R$ ', round(SL, 2))"
      ],
      "metadata": {
        "colab": {
          "base_uri": "https://localhost:8080/"
        },
        "id": "XwyK5-pH30NH",
        "outputId": "3c641326-34aa-42be-f16f-cf3e3bbb22e8"
      },
      "execution_count": null,
      "outputs": [
        {
          "output_type": "stream",
          "name": "stdout",
          "text": [
            "Insira o valor do salário bruto3527.98\n",
            "\n",
            "O salário líquido do funcionário é de: R$  2998.78\n"
          ]
        }
      ]
    }
  ]
}