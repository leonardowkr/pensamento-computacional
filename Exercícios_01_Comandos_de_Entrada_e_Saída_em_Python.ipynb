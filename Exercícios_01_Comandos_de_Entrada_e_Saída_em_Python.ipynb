{
  "nbformat": 4,
  "nbformat_minor": 0,
  "metadata": {
    "colab": {
      "provenance": [],
      "authorship_tag": "ABX9TyNTXgjLQlPokulNOl6G+WKe"
    },
    "kernelspec": {
      "name": "python3",
      "display_name": "Python 3"
    },
    "language_info": {
      "name": "python"
    }
  },
  "cells": [
    {
      "cell_type": "markdown",
      "source": [
        "\n",
        "Exercícios de Aula Comandos de Entrada e Saída em Python\n"
      ],
      "metadata": {
        "id": "v9bMTKY-8zCy"
      }
    },
    {
      "cell_type": "markdown",
      "source": [
        "1 - Faça em Python um algoritmo que leia um número inteiro qualquer. O algoritmo deve calcular e escrever o\n",
        "quadrado, a raiz quadrada, e a divisão do quadrado pela raiz quadrada do número lido."
      ],
      "metadata": {
        "id": "Y8kdsAXa8pRE"
      }
    },
    {
      "cell_type": "code",
      "execution_count": null,
      "metadata": {
        "colab": {
          "base_uri": "https://localhost:8080/"
        },
        "id": "RYAKl6iq8R-a",
        "outputId": "6547c15d-1eab-4a0b-ff4f-e1a3d8540bb7"
      },
      "outputs": [
        {
          "output_type": "stream",
          "name": "stdout",
          "text": [
            "INFORME UM NÚMERO INTEIRO QUALQUER9\n",
            "O QUADRADO DE  9  É:  81\n",
            "A RAIZ QUADRADA DE  9  É:  3.0\n",
            "A DIVISÃO DE  81  POR  3.0 É:  27.0\n"
          ]
        }
      ],
      "source": [
        "import math\n",
        "N = int(input(\"INFORME UM NÚMERO INTEIRO QUALQUER \"))\n",
        "QUA = N ** 2;\n",
        "print (\"O QUADRADO DE \", N ,\" É: \", QUA);\n",
        "RQ = math.sqrt (N);\n",
        "print ( \"A RAIZ QUADRADA DE \", N ,\" É: \", RQ);\n",
        "DIV_QUA_RA = QUA / RQ;\n",
        "print (\"A DIVISÃO DE \", QUA , \" POR \", RQ, \"É: \", DIV_QUA_RA);"
      ]
    },
    {
      "cell_type": "markdown",
      "source": [
        "2 - Faça em Python um algoritmo que calcule e escreva o preço final de um computador, sendo fornecido o\n",
        "preço de fábrica. O preço final do computador é calculado com base nos adicionais de: 30 % de imposto e\n",
        "10 % de revenda sobre o preço de fábrica."
      ],
      "metadata": {
        "id": "i_GZ2MMU8rAC"
      }
    },
    {
      "cell_type": "code",
      "source": [
        "IMPOSTO = 30;\n",
        "REVENDA = 10;\n",
        "\n",
        "P_FAB = int(input (\"INFORME O PREÇO DE FÁBRICA DO COMPUTADOR \"))\n",
        "IMP = P_FAB * IMPOSTO/ 100\n",
        "REV = P_FAB * REVENDA/ 100\n",
        "P_FINAL = P_FAB + IMP + REV\n",
        "print (\" O PREÇO FINAL DO COMPUTADOR É R$ \", round(P_FINAL,2))\n",
        "#print(f'O PREÇO FINAL DO COMPUTADOR É: R$ {preco_final: .2f}')"
      ],
      "metadata": {
        "colab": {
          "base_uri": "https://localhost:8080/"
        },
        "id": "swjlie0mCs8l",
        "outputId": "3fdab096-9e22-4f00-f8ff-0f66ad656492"
      },
      "execution_count": null,
      "outputs": [
        {
          "output_type": "stream",
          "name": "stdout",
          "text": [
            "INFORME O PREÇO DE FÁBRICA DO COMPUTADOR1500\n",
            " O PREÇO FINAL DO COMPUTADOR É R$  2100.0\n"
          ]
        }
      ]
    },
    {
      "cell_type": "markdown",
      "source": [
        "3 - Faça um algoritmo em Python que leia três números inteiros e calcule a sua média. Ao final, o algoritmo\n",
        "deve escrever os números lidos e o resultado da média."
      ],
      "metadata": {
        "id": "ehZT9SolDph5"
      }
    },
    {
      "cell_type": "code",
      "source": [
        "N1 = int(input(\"Insira o primeiro número \"))\n",
        "N2 = int(input(\"Insira o segundo número \"))\n",
        "N3 = int(input(\"Insira o terceiro número \"))\n",
        "avg = (N1 + N2 + N3)/3\n",
        "print (\"Primeiro número: \", N1)\n",
        "print (\"Segundo número: \", N2)\n",
        "print (\"Terceiro número: \", N3)\n",
        "print (\"Média: \", avg)"
      ],
      "metadata": {
        "colab": {
          "base_uri": "https://localhost:8080/"
        },
        "id": "-WyjkwcWD0nQ",
        "outputId": "32a68362-4356-4e5b-e849-4dd3d77e8807"
      },
      "execution_count": null,
      "outputs": [
        {
          "output_type": "stream",
          "name": "stdout",
          "text": [
            "Insira o primeiro número1\n",
            "Insira o segundo número2\n",
            "Insira o terceiro número3\n",
            "Primeiro número:  1\n",
            "Segundo número:  2\n",
            "Terceiro número:  3\n",
            "Média:  2.0\n"
          ]
        }
      ]
    },
    {
      "cell_type": "markdown",
      "source": [
        "4 - Fazer um algoritmo em Python que calcule o número de litros de combustível gastos em uma viagem,\n",
        "sabendo-se que o carro faz 12 km com um litro. Deverão ser lidos o tempo gasto na viagem e a velocidade\n",
        "média. Aplicar as seguintes fórmulas:\n",
        "- Distância = tempo gasto x velocidade média\n",
        "- litros gastos = distância / 12"
      ],
      "metadata": {
        "id": "L3Zez31FE5xm"
      }
    },
    {
      "cell_type": "code",
      "source": [
        "rendimento = 12\n",
        "horas = float(input(\"Insira o tempo gasto na viagem (em horas) \"))\n",
        "velocidade = float(input(\"Insira a velocidade média percorrida \"))\n",
        "litros_gas = (velocidade*horas)/rendimento\n",
        "print(\"Quantidade de gasolina gasta: \", litros_gas, \"L\")"
      ],
      "metadata": {
        "colab": {
          "base_uri": "https://localhost:8080/"
        },
        "id": "k2bm-ThwE8qF",
        "outputId": "76336ce4-17e8-4419-a4c5-fe5cbd0aee44"
      },
      "execution_count": null,
      "outputs": [
        {
          "output_type": "stream",
          "name": "stdout",
          "text": [
            "Insira o tempo gasto na viagem (em horas) 1\n",
            "Insira a velocidade média percorrida 60\n",
            "Quantidade de gasolina gasta:  5.0 L\n"
          ]
        }
      ]
    },
    {
      "cell_type": "markdown",
      "source": [
        "5 - Faça em Python um algoritmo que leia dois números inteiros (x e y), e calcule o quociente e o resto da\n",
        "divisão de x por y e escreva os resultados."
      ],
      "metadata": {
        "id": "GvK102BrGpTp"
      }
    },
    {
      "cell_type": "code",
      "source": [
        "N1 = int(input(\"Insira o primeiro número inteiro\"))\n",
        "N2 = int(input(\"Insira o segundo número inteiro\"))\n",
        "quo = N1 // N2\n",
        "resto = N1 % N2\n",
        "print(quo)\n",
        "print(resto)"
      ],
      "metadata": {
        "colab": {
          "base_uri": "https://localhost:8080/"
        },
        "id": "FNuNcllIGrwQ",
        "outputId": "d6c5d516-d6b8-4890-b6c2-d69d12b99755"
      },
      "execution_count": null,
      "outputs": [
        {
          "output_type": "stream",
          "name": "stdout",
          "text": [
            "Insira o primeiro número inteiro20\n",
            "Insira o segundo número inteiro11\n",
            "1\n",
            "9\n"
          ]
        }
      ]
    },
    {
      "cell_type": "markdown",
      "source": [
        "6 - Escreva em python um algoritmo que leia três números reais (a, b, c), e calcule a média aritmética. Após\n",
        "os cálculos, os resultados deverão ser escritos."
      ],
      "metadata": {
        "id": "z4V-Ox3rHtRc"
      }
    },
    {
      "cell_type": "code",
      "source": [
        "N1 = float(input(\"Insira o primeiro número \"))\n",
        "N2 = float(input(\"Insira o segundo número \"))\n",
        "N3 = float(input(\"Insira o terceiro número \"))\n",
        "avg = (N1 + N2 + N3)/3\n",
        "print (\"Primeiro número: \", N1)\n",
        "print (\"Segundo número: \", N2)\n",
        "print (\"Terceiro número: \", N3)\n",
        "print (\"Média: \", avg)"
      ],
      "metadata": {
        "colab": {
          "base_uri": "https://localhost:8080/"
        },
        "id": "JDWn4AZQHs50",
        "outputId": "5a6fb5d6-a69e-41d6-b795-8cbb7ef6bda1"
      },
      "execution_count": null,
      "outputs": [
        {
          "output_type": "stream",
          "name": "stdout",
          "text": [
            "Insira o primeiro número1\n",
            "Insira o segundo número2\n",
            "Insira o terceiro número3\n",
            "Primeiro número:  1.0\n",
            "Segundo número:  2.0\n",
            "Terceiro número:  3.0\n",
            "Média:  2.0\n"
          ]
        }
      ]
    },
    {
      "cell_type": "markdown",
      "source": [
        "7 - Uma loja de equipamentos de informática resolveu incentivar os seus funcionários a venderem no mês\n",
        "março. Para cada produto vendido, a loja dará uma bonificação de 1%, sobre o salário do funcionário.\n",
        "Desta forma, o funcionário que vender 10 produtos, terá um acréscimo de 10% em seu salário. Faça um\n",
        "algoritmo em Python que leia o código, o nome e o salário fixo do funcionário, além do número de\n",
        "produtos vendidos por ele no mês, e calcule o salário final do funcionário. Por fim, o algoritmo deve\n",
        "escrever o código e o nome do funcionário, juntamente com o seu salário final."
      ],
      "metadata": {
        "id": "57hI3aD2ISG0"
      }
    },
    {
      "cell_type": "code",
      "source": [
        "percentual_bonificacao = 1/100\n",
        "nome = (input(\"Insira o nome do funcionário\"))\n",
        "produtos = int(input(\"Insira a quantidade de produtos vendidos \"))\n",
        "salario_base = float(input(\"Insira o salário fixo do funcionário \"))\n",
        "bonificacao = produtos * salario_base * percentual_bonificacao\n",
        "salario = bonificacao + salario_base\n",
        "print ('O salário de ', nome, ' é de R$ ', salario)\n"
      ],
      "metadata": {
        "id": "USgoeC6pISLk"
      },
      "execution_count": null,
      "outputs": []
    },
    {
      "cell_type": "markdown",
      "source": [
        "8 - Construa um algoritmo em Python que calcule a quantidade de latas de tintas necessárias e o custo para\n",
        "pintar tanques cilíndricos de combustível, onde são fornecidos a altura e o raio deste cilindro. Sabendo\n",
        "que:\n",
        "\n",
        "\n",
        "*   a lata de tinta custa R$ 150,00\n",
        "*   cada lata contém 5 litros;\n",
        "*   cada litro de tinta pinta 3 metros quadrados;\n",
        "*   a área do total cilindro é dada por área da base + área lateral;\n",
        "*   a área da base do cilindro é dada π*raio*2\n",
        "*   a área da lateral é 2*π*raio*altura.\n",
        "*   Lembrando que π (pi) vale 3,14."
      ],
      "metadata": {
        "id": "mOM8YfzNOetL"
      }
    },
    {
      "cell_type": "code",
      "source": [
        "import math\n",
        "altura_cilindro = float(input('Insira a altura do cilindro de combustível'))\n",
        "raio_cilindro = float(input('Insira o raio do cilindro de combustível'))\n",
        "area_cilindro = (2 * math.pi * raio_cilindro) + (2 * math.pi * altura_cilindro)\n",
        "custo_lata = 150,00\n",
        "litros_lata = 5\n",
        "area_litro_tinta = 3\n",
        "qtde_latas = ((area_cilindro/area_litro_tinta)/litros_lata)\n",
        "qtde_latas = math.ceil(qtde_latas) #arredondamento da quantidade de latas (não é possível comprar uma lata e meia)\n",
        "# Ou:\n",
        "# if volume_total % volume lata > 0:\n",
        "#    numero_latas += 1\n",
        "print('A quantidade de latas de tinta para pintar um cilindro de ', area_cilindro, ' metros quadrados é de ', qtde_latas, 'latas')"
      ],
      "metadata": {
        "colab": {
          "base_uri": "https://localhost:8080/"
        },
        "id": "46OfqtvHOg6B",
        "outputId": "50347e68-b4a3-4a83-eb30-cd57bcfd7488"
      },
      "execution_count": null,
      "outputs": [
        {
          "output_type": "stream",
          "name": "stdout",
          "text": [
            "Insira a altura do cilindro de combustível1\n",
            "Insira o raio do cilindro de combustível2\n",
            "A quantidade de latas de tinta para pintar um cilindro de  18.84955592153876  metros quadrados é de  2 latas\n"
          ]
        }
      ]
    },
    {
      "cell_type": "markdown",
      "source": [
        "9 - Elabore um algoritmo em Python para calcular e escrever o preço final de um computador, sendo\n",
        "fornecido o preço de fábrica. O preço final do computador é calculado com base nos adicionais 45 % de\n",
        "imposto e 28 % de revenda sobre o preço de fábrica."
      ],
      "metadata": {
        "id": "UOJeeuDAUDLc"
      }
    },
    {
      "cell_type": "code",
      "source": [
        "preco = float(input('Informe o preço inicial do computador'))\n",
        "imposto = 0.45\n",
        "revenda = 0.28\n",
        "preco_final = preco+ (preco * imposto + preco * revenda)\n",
        "print('O preço final do computador é de R$ ', preco_final)"
      ],
      "metadata": {
        "colab": {
          "base_uri": "https://localhost:8080/"
        },
        "id": "SMtOpbrdUFVW",
        "outputId": "338fedd2-8ccd-45d7-e3a6-c026c00603c2"
      },
      "execution_count": null,
      "outputs": [
        {
          "output_type": "stream",
          "name": "stdout",
          "text": [
            "Informe o preço inicial do computador1000\n",
            "O preço final do computador é de R$  1730.0\n"
          ]
        }
      ]
    },
    {
      "cell_type": "markdown",
      "source": [
        "10 - Uma revendedora de carros usados paga aos seus funcionários vendedores, um salário fixo por mês, mais\n",
        "uma comissão para cada carro vendido. Escreva um algoritmo em Python que leia o número do vendedor, o seu salário fixo, o número de carros por ele vendidos, e o valor que recebe por carro vendido, e calcule o\n",
        "salário mensal do vendedor, escrevendo-o juntamente com o seu número de identificação."
      ],
      "metadata": {
        "id": "S6a2JJkaboC1"
      }
    },
    {
      "cell_type": "code",
      "source": [
        "salario_base = float(input('Insira o salário fixo do vendedor '))\n",
        "num_vendedor = int(input('Insira o número do vendedor '))\n",
        "qtde_venda_carros = int(input('Insira a quantidade de carros vendidos pelo vendedor '))\n",
        "valor_venda_carro = float(input('Insira o valor que o vendedor recebe por carro vendido '))\n",
        "salario_final = salario_base + qtde_venda_carros * valor_venda_carro\n",
        "print('O salário mensal do vendedor ', num_vendedor, ' é de R$ ', salario_final)\n"
      ],
      "metadata": {
        "colab": {
          "base_uri": "https://localhost:8080/"
        },
        "id": "wecOaio9btuj",
        "outputId": "6ca7d623-b95d-4452-ce11-187465bddcf1"
      },
      "execution_count": null,
      "outputs": [
        {
          "output_type": "stream",
          "name": "stdout",
          "text": [
            "Insira o salário fixo do vendedor2000\n",
            "Insira o número do vendedor23\n",
            "Insira a quantidade de carros vendidos pelo vendedor10\n",
            "Insira o valor que o vendedor recebe por carro vendido500\n",
            "O salário mensal do vendedor  23  é de R$  7000.0\n"
          ]
        }
      ]
    },
    {
      "cell_type": "markdown",
      "source": [
        "11 - Uma empresa, para emitir a sua folha de pagamento mensal, trabalha com os seguintes dados:\n",
        "\n",
        "***Relativos ao Sistema de Pagamentos***\n",
        "\n",
        "Valor da Hora Normal = R$ 8,00\n",
        "\n",
        "Valor da Hora Extra = R$ 9,50\n",
        "\n",
        "Valor do Acréscimo por Dependente = RS 2,50\n",
        "\n",
        "**Relativos a cada Funcionário**\n",
        "\n",
        "Número de Identificação\n",
        "\n",
        "Nome\n",
        "\n",
        "Número de horas normais trabalhadas\n",
        "\n",
        "Número de horas extras trabalhadas\n",
        "\n",
        "Número de dependentes\n",
        "\n",
        "O cálculo do salário de cada funcionário é feito em 3 etapas:\n",
        "\n",
        "Etapa 1 : Cálculo do Salário Bruto\n",
        "\n",
        "SALARIO BRUTO = Valor Total de Horas Normais + Valor Total de Horas Extras + Valor Total de\n",
        "Dependentes\n",
        "\n",
        "Etapa 2 : Descontos\n",
        "\n",
        "Todos os funcionários são isentos de imposto de renda, e descontam 5% do salário bruto para o INSS.\n",
        "\n",
        "Etapa 3 : Salário Líquido\n",
        "\n",
        "SALARIO LÍQUIDO = SALARIO BRUTO - DESCONTO\n",
        "\n",
        "Escrever um algoritmo em Python que leia os dados referentes ao funcionário, calcule e escreva o salário líquido do funcionário da empresa. Obs.: Além do salário líquido, escreva o número de\n",
        "identificação e o nome do funcionário."
      ],
      "metadata": {
        "id": "x-lk7rDDgsUh"
      }
    },
    {
      "cell_type": "code",
      "source": [
        "valor_hora_normal = 8.00\n",
        "valor_hora_extra = 9.50\n",
        "valor_acrescimo_por_dependente = 2.50\n",
        "num_funcionario = int(input('Insira o número de identificação do funcionário ' + nome))\n",
        "nome = input('Insira o nome do funcionário ')\n",
        "num_hora_normal = float(input('Insira o número de horas normais trabalhadas '))\n",
        "num_hora_extra= float(input('Insira o número de horas extras trabalhadas '))\n",
        "dependentes = int(input('Insira o número de dependentes '))\n",
        "\n",
        "salario_bruto = valor_hora_normal * num_hora_normal + valor_hora_extra * num_hora_extra + num_funcionario * valor_acrescimo_por_dependente\n",
        "descontos = salario_bruto * 0.05\n",
        "salario_liquido = salario_bruto - descontos\n",
        "print('O funcionário ', num_funcionario, ', ', nome, ', tem salario líquido de R$ ', salario_liquido)"
      ],
      "metadata": {
        "id": "aw_VEy4-iH3E"
      },
      "execution_count": null,
      "outputs": []
    }
  ]
}