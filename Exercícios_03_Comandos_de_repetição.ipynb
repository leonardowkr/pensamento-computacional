{
  "nbformat": 4,
  "nbformat_minor": 0,
  "metadata": {
    "colab": {
      "provenance": [],
      "authorship_tag": "ABX9TyPyLbpGj/albscno6AgB6SS"
    },
    "kernelspec": {
      "name": "python3",
      "display_name": "Python 3"
    },
    "language_info": {
      "name": "python"
    }
  },
  "cells": [
    {
      "cell_type": "code",
      "source": [
        "import time\n",
        "cand77 = 0\n",
        "cand77 = 0\n",
        "cand39 = 0\n",
        "cand66 = 0\n",
        "nulo = 0\n",
        "voto = 0\n",
        "branco = 0\n",
        "while(voto != 444444):\n",
        "  voto = int(input(\"Digite seu voto\"))\n",
        "  match(voto):\n",
        "    case 77:\n",
        "      cand77 +=1\n",
        "      print('Você votou no candidato 77')\n",
        "    case 39:\n",
        "     cand39 +=1\n",
        "     print('Você votou no candidato 39')\n",
        "    case 66:\n",
        "      cand66+=1\n",
        "      print('Você votou no candidato 66')\n",
        "    case 0:\n",
        "      nulo +=1\n",
        "      print('Você votou nulo')\n",
        "    case _:\n",
        "      branco +=1\n",
        "      print('Você votou em branco')\n",
        "  print('\\n')\n",
        "  time.sleep(2)\n",
        "\n",
        "votos_validos = cand77 + cand39 + cand66\n",
        "print('\\nVotos no candidato 77: ', cand77)\n",
        "print('\\nVotos no candidato 39: ', cand39)\n",
        "print('\\nVotos no candidato 66: ', cand66)\n",
        "print('\\nVotos em branco: ', branco)\n",
        "print('\\nVotos válidos: ', votos_validos)\n",
        "\n"
      ],
      "metadata": {
        "colab": {
          "base_uri": "https://localhost:8080/"
        },
        "outputId": "6c4bc29d-bda0-4233-f750-732978c6412c",
        "id": "4PkH-CxAu-FN"
      },
      "execution_count": null,
      "outputs": [
        {
          "output_type": "stream",
          "name": "stdout",
          "text": [
            "Digite seu voto39\n",
            "Você votou no candidato 39\n",
            "\n",
            "\n",
            "Digite seu voto66\n",
            "Você votou no candidato 66\n",
            "\n",
            "\n",
            "Digite seu voto77\n",
            "Você votou no candidato 77\n",
            "\n",
            "\n",
            "Digite seu voto0\n",
            "Você votou nulo\n",
            "\n",
            "\n",
            "Digite seu voto45\n",
            "Você votou em branco\n",
            "\n",
            "\n",
            "Digite seu voto4444444\n",
            "Você votou em branco\n",
            "\n",
            "\n"
          ]
        }
      ]
    },
    {
      "cell_type": "markdown",
      "source": [
        "1 - Transcreva o algoritmo a seguir para Python:\n",
        "\n",
        "\n",
        "\n",
        "```python\n",
        "# Transcreva o algoritmo a seguir para Python:\n",
        "ALGORITMO TABUADA_9;\n",
        "VAR\n",
        "N, X, R : INTEIRO;\n",
        "INICIO\n",
        "  PARA X DE 1 ATE 10 FACA\n",
        "  INICIO\n",
        "    R ← 9 * X;\n",
        "    ESCREVER ( X, ‘ x 9 = ’, R);\n",
        "  FIM;\n",
        "FIM_PARA;\n",
        "FIM.\n",
        "```\n",
        "\n",
        "\n",
        "\n",
        "\n",
        "FIM."
      ],
      "metadata": {
        "id": "8KjCDK6Bjw8V"
      }
    },
    {
      "cell_type": "code",
      "source": [
        "for i in range(11):\n",
        "  R = 9 * i;\n",
        "  print(i, ' x 9 = ', R);\n"
      ],
      "metadata": {
        "colab": {
          "base_uri": "https://localhost:8080/"
        },
        "id": "nFtGAn7ojxHe",
        "outputId": "7cf7d065-8f7f-4046-d935-bda3e352f733"
      },
      "execution_count": null,
      "outputs": [
        {
          "output_type": "stream",
          "name": "stdout",
          "text": [
            "0  x 9 =  0\n",
            "1  x 9 =  9\n",
            "2  x 9 =  18\n",
            "3  x 9 =  27\n",
            "4  x 9 =  36\n",
            "5  x 9 =  45\n",
            "6  x 9 =  54\n",
            "7  x 9 =  63\n",
            "8  x 9 =  72\n",
            "9  x 9 =  81\n",
            "10  x 9 =  90\n"
          ]
        }
      ]
    },
    {
      "cell_type": "markdown",
      "source": [
        "2 - Faça um programa em Python que mostre todos os números inteiros ímpares situados na faixa\n",
        "de 1000 a 1500."
      ],
      "metadata": {
        "id": "0oqLZMpnlSUt"
      }
    },
    {
      "cell_type": "code",
      "source": [
        "for i in range(1000, 1500):\n",
        "  if(i%2 == 1):\n",
        "    print(i)\n",
        "\n"
      ],
      "metadata": {
        "colab": {
          "base_uri": "https://localhost:8080/"
        },
        "id": "wnHXgi5AlUlE",
        "outputId": "a8bb80a3-a156-4b1f-a762-2baa6affba3d"
      },
      "execution_count": null,
      "outputs": [
        {
          "output_type": "stream",
          "name": "stdout",
          "text": [
            "1001\n",
            "1003\n",
            "1005\n",
            "1007\n",
            "1009\n",
            "1011\n",
            "1013\n",
            "1015\n",
            "1017\n",
            "1019\n",
            "1021\n",
            "1023\n",
            "1025\n",
            "1027\n",
            "1029\n",
            "1031\n",
            "1033\n",
            "1035\n",
            "1037\n",
            "1039\n",
            "1041\n",
            "1043\n",
            "1045\n",
            "1047\n",
            "1049\n",
            "1051\n",
            "1053\n",
            "1055\n",
            "1057\n",
            "1059\n",
            "1061\n",
            "1063\n",
            "1065\n",
            "1067\n",
            "1069\n",
            "1071\n",
            "1073\n",
            "1075\n",
            "1077\n",
            "1079\n",
            "1081\n",
            "1083\n",
            "1085\n",
            "1087\n",
            "1089\n",
            "1091\n",
            "1093\n",
            "1095\n",
            "1097\n",
            "1099\n",
            "1101\n",
            "1103\n",
            "1105\n",
            "1107\n",
            "1109\n",
            "1111\n",
            "1113\n",
            "1115\n",
            "1117\n",
            "1119\n",
            "1121\n",
            "1123\n",
            "1125\n",
            "1127\n",
            "1129\n",
            "1131\n",
            "1133\n",
            "1135\n",
            "1137\n",
            "1139\n",
            "1141\n",
            "1143\n",
            "1145\n",
            "1147\n",
            "1149\n",
            "1151\n",
            "1153\n",
            "1155\n",
            "1157\n",
            "1159\n",
            "1161\n",
            "1163\n",
            "1165\n",
            "1167\n",
            "1169\n",
            "1171\n",
            "1173\n",
            "1175\n",
            "1177\n",
            "1179\n",
            "1181\n",
            "1183\n",
            "1185\n",
            "1187\n",
            "1189\n",
            "1191\n",
            "1193\n",
            "1195\n",
            "1197\n",
            "1199\n",
            "1201\n",
            "1203\n",
            "1205\n",
            "1207\n",
            "1209\n",
            "1211\n",
            "1213\n",
            "1215\n",
            "1217\n",
            "1219\n",
            "1221\n",
            "1223\n",
            "1225\n",
            "1227\n",
            "1229\n",
            "1231\n",
            "1233\n",
            "1235\n",
            "1237\n",
            "1239\n",
            "1241\n",
            "1243\n",
            "1245\n",
            "1247\n",
            "1249\n",
            "1251\n",
            "1253\n",
            "1255\n",
            "1257\n",
            "1259\n",
            "1261\n",
            "1263\n",
            "1265\n",
            "1267\n",
            "1269\n",
            "1271\n",
            "1273\n",
            "1275\n",
            "1277\n",
            "1279\n",
            "1281\n",
            "1283\n",
            "1285\n",
            "1287\n",
            "1289\n",
            "1291\n",
            "1293\n",
            "1295\n",
            "1297\n",
            "1299\n",
            "1301\n",
            "1303\n",
            "1305\n",
            "1307\n",
            "1309\n",
            "1311\n",
            "1313\n",
            "1315\n",
            "1317\n",
            "1319\n",
            "1321\n",
            "1323\n",
            "1325\n",
            "1327\n",
            "1329\n",
            "1331\n",
            "1333\n",
            "1335\n",
            "1337\n",
            "1339\n",
            "1341\n",
            "1343\n",
            "1345\n",
            "1347\n",
            "1349\n",
            "1351\n",
            "1353\n",
            "1355\n",
            "1357\n",
            "1359\n",
            "1361\n",
            "1363\n",
            "1365\n",
            "1367\n",
            "1369\n",
            "1371\n",
            "1373\n",
            "1375\n",
            "1377\n",
            "1379\n",
            "1381\n",
            "1383\n",
            "1385\n",
            "1387\n",
            "1389\n",
            "1391\n",
            "1393\n",
            "1395\n",
            "1397\n",
            "1399\n",
            "1401\n",
            "1403\n",
            "1405\n",
            "1407\n",
            "1409\n",
            "1411\n",
            "1413\n",
            "1415\n",
            "1417\n",
            "1419\n",
            "1421\n",
            "1423\n",
            "1425\n",
            "1427\n",
            "1429\n",
            "1431\n",
            "1433\n",
            "1435\n",
            "1437\n",
            "1439\n",
            "1441\n",
            "1443\n",
            "1445\n",
            "1447\n",
            "1449\n",
            "1451\n",
            "1453\n",
            "1455\n",
            "1457\n",
            "1459\n",
            "1461\n",
            "1463\n",
            "1465\n",
            "1467\n",
            "1469\n",
            "1471\n",
            "1473\n",
            "1475\n",
            "1477\n",
            "1479\n",
            "1481\n",
            "1483\n",
            "1485\n",
            "1487\n",
            "1489\n",
            "1491\n",
            "1493\n",
            "1495\n",
            "1497\n",
            "1499\n"
          ]
        }
      ]
    },
    {
      "cell_type": "markdown",
      "source": [
        "3. Elabore um programa em Python que calcule e escreva a soma de 10 números lidos."
      ],
      "metadata": {
        "id": "dQ_oyjWXntbC"
      }
    },
    {
      "cell_type": "code",
      "source": [
        "i = 0\n",
        "soma = 0\n",
        "while(i < 10):\n",
        "  num = float(input('Insira o '+str(i+1)+' ° número'))\n",
        "  i+= 1\n",
        "  soma += num\n",
        "print('\\nA soma dos números inseridos é: ', soma)"
      ],
      "metadata": {
        "colab": {
          "base_uri": "https://localhost:8080/"
        },
        "id": "AG8IQHdFnus1",
        "outputId": "bccdb897-55b2-47dd-d5a3-57c0f6fd876a"
      },
      "execution_count": null,
      "outputs": [
        {
          "output_type": "stream",
          "name": "stdout",
          "text": [
            "Insira o 1 ° número1\n",
            "Insira o 2 ° número2\n",
            "Insira o 3 ° número3\n",
            "Insira o 4 ° número4\n",
            "Insira o 5 ° número5\n",
            "Insira o 6 ° número6\n",
            "Insira o 7 ° número7\n",
            "Insira o 8 ° número8\n",
            "Insira o 9 ° número9\n",
            "Insira o 10 ° número10\n",
            "A soma dos números inseridos é:  55.0\n"
          ]
        }
      ]
    },
    {
      "cell_type": "markdown",
      "source": [
        "4 - Faça um programa em Python que leia a nota de 10 alunos de uma turma. Ao final, deve ser\n",
        "escrita a média geral da turma."
      ],
      "metadata": {
        "id": "AgTLWuqMqBuT"
      }
    },
    {
      "cell_type": "code",
      "source": [
        "nota = 0\n",
        "soma = 0\n",
        "soma_notas = 0\n",
        "i = 0\n",
        "while(i < 10):\n",
        "  nota = int(input('Insira a nota do '+str(i+1)+' ° aluno'))\n",
        "  soma_notas += nota\n",
        "  i+=1\n",
        "MD = soma_notas/10\n",
        "print('\\nA média da turma foi: ', MD)"
      ],
      "metadata": {
        "colab": {
          "base_uri": "https://localhost:8080/"
        },
        "id": "hgPpq0hZqBjL",
        "outputId": "430a4f23-abb1-4cb8-809a-d646833023ee"
      },
      "execution_count": null,
      "outputs": [
        {
          "output_type": "stream",
          "name": "stdout",
          "text": [
            "Insira a nota do 1 ° aluno5\n",
            "Insira a nota do 2 ° aluno5\n",
            "Insira a nota do 3 ° aluno5\n",
            "Insira a nota do 4 ° aluno5\n",
            "Insira a nota do 5 ° aluno5\n",
            "Insira a nota do 6 ° aluno5\n",
            "Insira a nota do 7 ° aluno5\n",
            "Insira a nota do 8 ° aluno5\n",
            "Insira a nota do 9 ° aluno5\n",
            "Insira a nota do 10 ° aluno5\n",
            "\n",
            "A média da turma foi:  5.0\n"
          ]
        }
      ]
    },
    {
      "cell_type": "markdown",
      "source": [
        "5 - Faça um programa em Python que leia 5 números. Para cada número fornecido, escreva se\n",
        "ele é NULO, NEGATIVO ou POSITIVO."
      ],
      "metadata": {
        "id": "t_sIFm6xrgZC"
      }
    },
    {
      "cell_type": "code",
      "source": [
        "i = 0\n",
        "while(i < 5):\n",
        "  num = int(input('\\nInsira o '+str(i+1)+' ° número'))\n",
        "  if(num > 0):\n",
        "    print('O número ', num, ' é positivo')\n",
        "  elif(num < 0):\n",
        "    print('O número ', num, ' é negativo')\n",
        "  else:\n",
        "    print('O número ', num, ' é nulo')\n",
        "  i+=1\n"
      ],
      "metadata": {
        "colab": {
          "base_uri": "https://localhost:8080/"
        },
        "id": "G2zfhTg8riMh",
        "outputId": "d8d464a1-e03a-42fe-918d-0c2517523264"
      },
      "execution_count": null,
      "outputs": [
        {
          "output_type": "stream",
          "name": "stdout",
          "text": [
            "\n",
            "Insira o 1 ° número1\n",
            "O número  1  é positivo\n",
            "\n",
            "Insira o 2 ° número2\n",
            "O número  2  é positivo\n",
            "\n",
            "Insira o 3 ° número3\n",
            "O número  3  é positivo\n",
            "\n",
            "Insira o 4 ° número4\n",
            "O número  4  é positivo\n",
            "\n",
            "Insira o 5 ° número5\n",
            "O número  5  é positivo\n"
          ]
        }
      ]
    },
    {
      "cell_type": "markdown",
      "source": [
        "6 - Ler dois valores inteiros e escrever os números em sequência do menor até maior valor."
      ],
      "metadata": {
        "id": "sXYL7j25s4FM"
      }
    },
    {
      "cell_type": "code",
      "source": [
        "num1 = int(input('Insira um número'))\n",
        "num2 = int(input('Insira outro número'))\n",
        "if(num1 > num2):\n",
        "  print('\\n',num2, ' > ',num1)\n",
        "elif(num2 > num1):\n",
        "  print('\\n',num1, ' > ',num2)"
      ],
      "metadata": {
        "colab": {
          "base_uri": "https://localhost:8080/"
        },
        "id": "Zv2ySJNUs7fE",
        "outputId": "f202a654-52f9-4a35-96f6-edb2d0cbf52e"
      },
      "execution_count": null,
      "outputs": [
        {
          "output_type": "stream",
          "name": "stdout",
          "text": [
            "Insira um número2\n",
            "Insira outro número1\n",
            "\n",
            " 1  >  2\n"
          ]
        }
      ]
    },
    {
      "cell_type": "markdown",
      "source": [
        "7 - Faça um programa em Python que escreva os números pares entre 100 e 200."
      ],
      "metadata": {
        "id": "tQYMLG9HtsIF"
      }
    },
    {
      "cell_type": "code",
      "source": [
        "for i in range(100, 201):\n",
        "  if(i%2 == 0):\n",
        "    print(i)"
      ],
      "metadata": {
        "colab": {
          "base_uri": "https://localhost:8080/"
        },
        "id": "WJqRBSfgtuSc",
        "outputId": "0a6da677-e4fb-45d2-94c8-c74a2b66ccdf"
      },
      "execution_count": null,
      "outputs": [
        {
          "output_type": "stream",
          "name": "stdout",
          "text": [
            "100\n",
            "102\n",
            "104\n",
            "106\n",
            "108\n",
            "110\n",
            "112\n",
            "114\n",
            "116\n",
            "118\n",
            "120\n",
            "122\n",
            "124\n",
            "126\n",
            "128\n",
            "130\n",
            "132\n",
            "134\n",
            "136\n",
            "138\n",
            "140\n",
            "142\n",
            "144\n",
            "146\n",
            "148\n",
            "150\n",
            "152\n",
            "154\n",
            "156\n",
            "158\n",
            "160\n",
            "162\n",
            "164\n",
            "166\n",
            "168\n",
            "170\n",
            "172\n",
            "174\n",
            "176\n",
            "178\n",
            "180\n",
            "182\n",
            "184\n",
            "186\n",
            "188\n",
            "190\n",
            "192\n",
            "194\n",
            "196\n",
            "198\n",
            "200\n"
          ]
        }
      ]
    },
    {
      "cell_type": "markdown",
      "source": [
        "8 - Escrever um programa em Python que leia um valor para n, inteiro e positivo, e escreva a\n",
        "tabuada de n. Com os respectivos valores."
      ],
      "metadata": {
        "id": "grXMswgPuK91"
      }
    },
    {
      "cell_type": "code",
      "source": [
        "n = int(input('Insira um valor inteiro e positivo'))\n",
        "for i in range (11):\n",
        "  print(i, ' * ', n, ' = ', n*i)\n"
      ],
      "metadata": {
        "colab": {
          "base_uri": "https://localhost:8080/"
        },
        "id": "JMXhwEMouNHM",
        "outputId": "23dcfe6f-b049-470d-a1e8-da1dfbe49ae5"
      },
      "execution_count": null,
      "outputs": [
        {
          "output_type": "stream",
          "name": "stdout",
          "text": [
            "Insira um valor inteiro e positivo5\n",
            "0  *  5  =  0\n",
            "1  *  5  =  5\n",
            "2  *  5  =  10\n",
            "3  *  5  =  15\n",
            "4  *  5  =  20\n",
            "5  *  5  =  25\n",
            "6  *  5  =  30\n",
            "7  *  5  =  35\n",
            "8  *  5  =  40\n",
            "9  *  5  =  45\n",
            "10  *  5  =  50\n"
          ]
        }
      ]
    },
    {
      "cell_type": "markdown",
      "source": [
        "9 - Escrever um programa em Python que gera os números de 1000 a 1999 e escreve aqueles\n",
        "que divididos por 11 dão um resto igual a 5."
      ],
      "metadata": {
        "id": "GfXl0HsJuul1"
      }
    },
    {
      "cell_type": "code",
      "source": [
        "for i in range (1000, 2000):\n",
        "  if(i % 11 == 5):\n",
        "    print(i)"
      ],
      "metadata": {
        "colab": {
          "base_uri": "https://localhost:8080/"
        },
        "id": "AMdSLLmQuweE",
        "outputId": "6c56a9ca-2d75-499d-b36b-03300bf758e4"
      },
      "execution_count": null,
      "outputs": [
        {
          "output_type": "stream",
          "name": "stdout",
          "text": [
            "1006\n",
            "1017\n",
            "1028\n",
            "1039\n",
            "1050\n",
            "1061\n",
            "1072\n",
            "1083\n",
            "1094\n",
            "1105\n",
            "1116\n",
            "1127\n",
            "1138\n",
            "1149\n",
            "1160\n",
            "1171\n",
            "1182\n",
            "1193\n",
            "1204\n",
            "1215\n",
            "1226\n",
            "1237\n",
            "1248\n",
            "1259\n",
            "1270\n",
            "1281\n",
            "1292\n",
            "1303\n",
            "1314\n",
            "1325\n",
            "1336\n",
            "1347\n",
            "1358\n",
            "1369\n",
            "1380\n",
            "1391\n",
            "1402\n",
            "1413\n",
            "1424\n",
            "1435\n",
            "1446\n",
            "1457\n",
            "1468\n",
            "1479\n",
            "1490\n",
            "1501\n",
            "1512\n",
            "1523\n",
            "1534\n",
            "1545\n",
            "1556\n",
            "1567\n",
            "1578\n",
            "1589\n",
            "1600\n",
            "1611\n",
            "1622\n",
            "1633\n",
            "1644\n",
            "1655\n",
            "1666\n",
            "1677\n",
            "1688\n",
            "1699\n",
            "1710\n",
            "1721\n",
            "1732\n",
            "1743\n",
            "1754\n",
            "1765\n",
            "1776\n",
            "1787\n",
            "1798\n",
            "1809\n",
            "1820\n",
            "1831\n",
            "1842\n",
            "1853\n",
            "1864\n",
            "1875\n",
            "1886\n",
            "1897\n",
            "1908\n",
            "1919\n",
            "1930\n",
            "1941\n",
            "1952\n",
            "1963\n",
            "1974\n",
            "1985\n",
            "1996\n"
          ]
        }
      ]
    },
    {
      "cell_type": "markdown",
      "source": [
        "10 - Faça um programa em Python que leia um número qualquer (N), e realize a soma dos\n",
        "números de 1 até N. Ao final, deve-se escrever o resultado."
      ],
      "metadata": {
        "id": "BtkbN-Y60EGy"
      }
    },
    {
      "cell_type": "code",
      "source": [
        "N = int(input('Insira um número'))\n",
        "soma = 0\n",
        "i = 0\n",
        "for i in range (0, N+1):\n",
        "  soma += i\n",
        "\n",
        "print('A soma de 1 até ', N,' é igual a: ', soma)"
      ],
      "metadata": {
        "colab": {
          "base_uri": "https://localhost:8080/"
        },
        "id": "W5LUQVZ50GqK",
        "outputId": "542fbf4b-90d8-42f7-9230-3da38e3d317c"
      },
      "execution_count": null,
      "outputs": [
        {
          "output_type": "stream",
          "name": "stdout",
          "text": [
            "Insira um número3\n",
            "A soma de 1 até  3  é igual a:  6\n"
          ]
        }
      ]
    },
    {
      "cell_type": "markdown",
      "source": [
        "11 - Faça um programa em Python para ler 10 valores inteiros. Para cada valor fornecido escreva\n",
        "uma mensagem que indica se cada valor fornecido é PAR ou ÍMPAR."
      ],
      "metadata": {
        "id": "0BKX3YkA1tms"
      }
    },
    {
      "cell_type": "code",
      "source": [
        "for i in range (0, 10):\n",
        "  N = int(input('Insira o '+ str(i+1) +'° número'))\n",
        "  if(N % 2 == 0):\n",
        "    print('O número ', N, 'é par\\n')\n",
        "  else:\n",
        "    print('O número ', N, 'é ímpar\\n')"
      ],
      "metadata": {
        "colab": {
          "base_uri": "https://localhost:8080/",
          "height": 564
        },
        "id": "jpu4MRr11vkD",
        "outputId": "4d05a061-6a81-4f1b-f1ec-a85b603addf4"
      },
      "execution_count": null,
      "outputs": [
        {
          "output_type": "stream",
          "name": "stdout",
          "text": [
            "Insira o 1° número2\n",
            "O número  2 é par\n",
            "\n",
            "Insira o 2° número5\n",
            "O número  5 é ímpar\n",
            "\n",
            "Insira o 3° número6\n",
            "O número  6 é par\n",
            "\n",
            "Insira o 4° número7\n",
            "O número  7 é ímpar\n",
            "\n"
          ]
        },
        {
          "output_type": "error",
          "ename": "KeyboardInterrupt",
          "evalue": "Interrupted by user",
          "traceback": [
            "\u001b[0;31m---------------------------------------------------------------------------\u001b[0m",
            "\u001b[0;31mKeyboardInterrupt\u001b[0m                         Traceback (most recent call last)",
            "\u001b[0;32m<ipython-input-88-b7da4e972cda>\u001b[0m in \u001b[0;36m<cell line: 0>\u001b[0;34m()\u001b[0m\n\u001b[1;32m      1\u001b[0m \u001b[0;32mfor\u001b[0m \u001b[0mi\u001b[0m \u001b[0;32min\u001b[0m \u001b[0mrange\u001b[0m \u001b[0;34m(\u001b[0m\u001b[0;36m0\u001b[0m\u001b[0;34m,\u001b[0m \u001b[0;36m10\u001b[0m\u001b[0;34m)\u001b[0m\u001b[0;34m:\u001b[0m\u001b[0;34m\u001b[0m\u001b[0;34m\u001b[0m\u001b[0m\n\u001b[0;32m----> 2\u001b[0;31m   \u001b[0mN\u001b[0m \u001b[0;34m=\u001b[0m \u001b[0mint\u001b[0m\u001b[0;34m(\u001b[0m\u001b[0minput\u001b[0m\u001b[0;34m(\u001b[0m\u001b[0;34m'Insira o '\u001b[0m\u001b[0;34m+\u001b[0m \u001b[0mstr\u001b[0m\u001b[0;34m(\u001b[0m\u001b[0mi\u001b[0m\u001b[0;34m+\u001b[0m\u001b[0;36m1\u001b[0m\u001b[0;34m)\u001b[0m \u001b[0;34m+\u001b[0m\u001b[0;34m'° número'\u001b[0m\u001b[0;34m)\u001b[0m\u001b[0;34m)\u001b[0m\u001b[0;34m\u001b[0m\u001b[0;34m\u001b[0m\u001b[0m\n\u001b[0m\u001b[1;32m      3\u001b[0m   \u001b[0;32mif\u001b[0m\u001b[0;34m(\u001b[0m\u001b[0mN\u001b[0m \u001b[0;34m%\u001b[0m \u001b[0;36m2\u001b[0m \u001b[0;34m==\u001b[0m \u001b[0;36m0\u001b[0m\u001b[0;34m)\u001b[0m\u001b[0;34m:\u001b[0m\u001b[0;34m\u001b[0m\u001b[0;34m\u001b[0m\u001b[0m\n\u001b[1;32m      4\u001b[0m     \u001b[0mprint\u001b[0m\u001b[0;34m(\u001b[0m\u001b[0;34m'O número '\u001b[0m\u001b[0;34m,\u001b[0m \u001b[0mN\u001b[0m\u001b[0;34m,\u001b[0m \u001b[0;34m'é par\\n'\u001b[0m\u001b[0;34m)\u001b[0m\u001b[0;34m\u001b[0m\u001b[0;34m\u001b[0m\u001b[0m\n\u001b[1;32m      5\u001b[0m   \u001b[0;32melse\u001b[0m\u001b[0;34m:\u001b[0m\u001b[0;34m\u001b[0m\u001b[0;34m\u001b[0m\u001b[0m\n",
            "\u001b[0;32m/usr/local/lib/python3.11/dist-packages/ipykernel/kernelbase.py\u001b[0m in \u001b[0;36mraw_input\u001b[0;34m(self, prompt)\u001b[0m\n\u001b[1;32m   1175\u001b[0m                 \u001b[0;34m\"raw_input was called, but this frontend does not support input requests.\"\u001b[0m\u001b[0;34m\u001b[0m\u001b[0;34m\u001b[0m\u001b[0m\n\u001b[1;32m   1176\u001b[0m             )\n\u001b[0;32m-> 1177\u001b[0;31m         return self._input_request(\n\u001b[0m\u001b[1;32m   1178\u001b[0m             \u001b[0mstr\u001b[0m\u001b[0;34m(\u001b[0m\u001b[0mprompt\u001b[0m\u001b[0;34m)\u001b[0m\u001b[0;34m,\u001b[0m\u001b[0;34m\u001b[0m\u001b[0;34m\u001b[0m\u001b[0m\n\u001b[1;32m   1179\u001b[0m             \u001b[0mself\u001b[0m\u001b[0;34m.\u001b[0m\u001b[0m_parent_ident\u001b[0m\u001b[0;34m[\u001b[0m\u001b[0;34m\"shell\"\u001b[0m\u001b[0;34m]\u001b[0m\u001b[0;34m,\u001b[0m\u001b[0;34m\u001b[0m\u001b[0;34m\u001b[0m\u001b[0m\n",
            "\u001b[0;32m/usr/local/lib/python3.11/dist-packages/ipykernel/kernelbase.py\u001b[0m in \u001b[0;36m_input_request\u001b[0;34m(self, prompt, ident, parent, password)\u001b[0m\n\u001b[1;32m   1217\u001b[0m             \u001b[0;32mexcept\u001b[0m \u001b[0mKeyboardInterrupt\u001b[0m\u001b[0;34m:\u001b[0m\u001b[0;34m\u001b[0m\u001b[0;34m\u001b[0m\u001b[0m\n\u001b[1;32m   1218\u001b[0m                 \u001b[0;31m# re-raise KeyboardInterrupt, to truncate traceback\u001b[0m\u001b[0;34m\u001b[0m\u001b[0;34m\u001b[0m\u001b[0m\n\u001b[0;32m-> 1219\u001b[0;31m                 \u001b[0;32mraise\u001b[0m \u001b[0mKeyboardInterrupt\u001b[0m\u001b[0;34m(\u001b[0m\u001b[0;34m\"Interrupted by user\"\u001b[0m\u001b[0;34m)\u001b[0m \u001b[0;32mfrom\u001b[0m \u001b[0;32mNone\u001b[0m\u001b[0;34m\u001b[0m\u001b[0;34m\u001b[0m\u001b[0m\n\u001b[0m\u001b[1;32m   1220\u001b[0m             \u001b[0;32mexcept\u001b[0m \u001b[0mException\u001b[0m\u001b[0;34m:\u001b[0m\u001b[0;34m\u001b[0m\u001b[0;34m\u001b[0m\u001b[0m\n\u001b[1;32m   1221\u001b[0m                 \u001b[0mself\u001b[0m\u001b[0;34m.\u001b[0m\u001b[0mlog\u001b[0m\u001b[0;34m.\u001b[0m\u001b[0mwarning\u001b[0m\u001b[0;34m(\u001b[0m\u001b[0;34m\"Invalid Message:\"\u001b[0m\u001b[0;34m,\u001b[0m \u001b[0mexc_info\u001b[0m\u001b[0;34m=\u001b[0m\u001b[0;32mTrue\u001b[0m\u001b[0;34m)\u001b[0m\u001b[0;34m\u001b[0m\u001b[0;34m\u001b[0m\u001b[0m\n",
            "\u001b[0;31mKeyboardInterrupt\u001b[0m: Interrupted by user"
          ]
        }
      ]
    },
    {
      "cell_type": "markdown",
      "source": [
        "12. Faça um programa em Python que leia a idade de 10 alunos, calcule e escreva a média de\n",
        "idade destes."
      ],
      "metadata": {
        "id": "qzvRpjvH3FlS"
      }
    },
    {
      "cell_type": "code",
      "source": [
        "soma_idades = 0\n",
        "alunos = 3\n",
        "for i in range (0, alunos):\n",
        "  idade = int(input('Insira a idade do '+ str(i+1) +'° aluno'))\n",
        "  soma_idades += idade\n",
        "MD = soma_idades / alunos\n",
        "print(f'A média de idades é de: {MD:.0f}'+ ' anos')"
      ],
      "metadata": {
        "colab": {
          "base_uri": "https://localhost:8080/",
          "height": 356
        },
        "id": "knS2VQ_53ICy",
        "outputId": "4b877cfe-c8f5-47d3-8cc1-69a02d95dd54"
      },
      "execution_count": null,
      "outputs": [
        {
          "output_type": "error",
          "ename": "KeyboardInterrupt",
          "evalue": "Interrupted by user",
          "traceback": [
            "\u001b[0;31m---------------------------------------------------------------------------\u001b[0m",
            "\u001b[0;31mKeyboardInterrupt\u001b[0m                         Traceback (most recent call last)",
            "\u001b[0;32m<ipython-input-104-7d2f5374ac7b>\u001b[0m in \u001b[0;36m<cell line: 0>\u001b[0;34m()\u001b[0m\n\u001b[1;32m      2\u001b[0m \u001b[0malunos\u001b[0m \u001b[0;34m=\u001b[0m \u001b[0;36m3\u001b[0m\u001b[0;34m\u001b[0m\u001b[0;34m\u001b[0m\u001b[0m\n\u001b[1;32m      3\u001b[0m \u001b[0;32mfor\u001b[0m \u001b[0mi\u001b[0m \u001b[0;32min\u001b[0m \u001b[0mrange\u001b[0m \u001b[0;34m(\u001b[0m\u001b[0;36m0\u001b[0m\u001b[0;34m,\u001b[0m \u001b[0malunos\u001b[0m\u001b[0;34m)\u001b[0m\u001b[0;34m:\u001b[0m\u001b[0;34m\u001b[0m\u001b[0;34m\u001b[0m\u001b[0m\n\u001b[0;32m----> 4\u001b[0;31m   \u001b[0midade\u001b[0m \u001b[0;34m=\u001b[0m \u001b[0mint\u001b[0m\u001b[0;34m(\u001b[0m\u001b[0minput\u001b[0m\u001b[0;34m(\u001b[0m\u001b[0;34m'Insira a idade do '\u001b[0m\u001b[0;34m+\u001b[0m \u001b[0mstr\u001b[0m\u001b[0;34m(\u001b[0m\u001b[0mi\u001b[0m\u001b[0;34m+\u001b[0m\u001b[0;36m1\u001b[0m\u001b[0;34m)\u001b[0m \u001b[0;34m+\u001b[0m\u001b[0;34m'° aluno'\u001b[0m\u001b[0;34m)\u001b[0m\u001b[0;34m)\u001b[0m\u001b[0;34m\u001b[0m\u001b[0;34m\u001b[0m\u001b[0m\n\u001b[0m\u001b[1;32m      5\u001b[0m   \u001b[0msoma_idades\u001b[0m \u001b[0;34m+=\u001b[0m \u001b[0midade\u001b[0m\u001b[0;34m\u001b[0m\u001b[0;34m\u001b[0m\u001b[0m\n\u001b[1;32m      6\u001b[0m \u001b[0mMD\u001b[0m \u001b[0;34m=\u001b[0m \u001b[0msoma_idades\u001b[0m \u001b[0;34m/\u001b[0m \u001b[0malunos\u001b[0m\u001b[0;34m\u001b[0m\u001b[0;34m\u001b[0m\u001b[0m\n",
            "\u001b[0;32m/usr/local/lib/python3.11/dist-packages/ipykernel/kernelbase.py\u001b[0m in \u001b[0;36mraw_input\u001b[0;34m(self, prompt)\u001b[0m\n\u001b[1;32m   1175\u001b[0m                 \u001b[0;34m\"raw_input was called, but this frontend does not support input requests.\"\u001b[0m\u001b[0;34m\u001b[0m\u001b[0;34m\u001b[0m\u001b[0m\n\u001b[1;32m   1176\u001b[0m             )\n\u001b[0;32m-> 1177\u001b[0;31m         return self._input_request(\n\u001b[0m\u001b[1;32m   1178\u001b[0m             \u001b[0mstr\u001b[0m\u001b[0;34m(\u001b[0m\u001b[0mprompt\u001b[0m\u001b[0;34m)\u001b[0m\u001b[0;34m,\u001b[0m\u001b[0;34m\u001b[0m\u001b[0;34m\u001b[0m\u001b[0m\n\u001b[1;32m   1179\u001b[0m             \u001b[0mself\u001b[0m\u001b[0;34m.\u001b[0m\u001b[0m_parent_ident\u001b[0m\u001b[0;34m[\u001b[0m\u001b[0;34m\"shell\"\u001b[0m\u001b[0;34m]\u001b[0m\u001b[0;34m,\u001b[0m\u001b[0;34m\u001b[0m\u001b[0;34m\u001b[0m\u001b[0m\n",
            "\u001b[0;32m/usr/local/lib/python3.11/dist-packages/ipykernel/kernelbase.py\u001b[0m in \u001b[0;36m_input_request\u001b[0;34m(self, prompt, ident, parent, password)\u001b[0m\n\u001b[1;32m   1217\u001b[0m             \u001b[0;32mexcept\u001b[0m \u001b[0mKeyboardInterrupt\u001b[0m\u001b[0;34m:\u001b[0m\u001b[0;34m\u001b[0m\u001b[0;34m\u001b[0m\u001b[0m\n\u001b[1;32m   1218\u001b[0m                 \u001b[0;31m# re-raise KeyboardInterrupt, to truncate traceback\u001b[0m\u001b[0;34m\u001b[0m\u001b[0;34m\u001b[0m\u001b[0m\n\u001b[0;32m-> 1219\u001b[0;31m                 \u001b[0;32mraise\u001b[0m \u001b[0mKeyboardInterrupt\u001b[0m\u001b[0;34m(\u001b[0m\u001b[0;34m\"Interrupted by user\"\u001b[0m\u001b[0;34m)\u001b[0m \u001b[0;32mfrom\u001b[0m \u001b[0;32mNone\u001b[0m\u001b[0;34m\u001b[0m\u001b[0;34m\u001b[0m\u001b[0m\n\u001b[0m\u001b[1;32m   1220\u001b[0m             \u001b[0;32mexcept\u001b[0m \u001b[0mException\u001b[0m\u001b[0;34m:\u001b[0m\u001b[0;34m\u001b[0m\u001b[0;34m\u001b[0m\u001b[0m\n\u001b[1;32m   1221\u001b[0m                 \u001b[0mself\u001b[0m\u001b[0;34m.\u001b[0m\u001b[0mlog\u001b[0m\u001b[0;34m.\u001b[0m\u001b[0mwarning\u001b[0m\u001b[0;34m(\u001b[0m\u001b[0;34m\"Invalid Message:\"\u001b[0m\u001b[0;34m,\u001b[0m \u001b[0mexc_info\u001b[0m\u001b[0;34m=\u001b[0m\u001b[0;32mTrue\u001b[0m\u001b[0;34m)\u001b[0m\u001b[0;34m\u001b[0m\u001b[0;34m\u001b[0m\u001b[0m\n",
            "\u001b[0;31mKeyboardInterrupt\u001b[0m: Interrupted by user"
          ]
        }
      ]
    },
    {
      "cell_type": "markdown",
      "source": [
        "13 - Faça um algoritmo em Python que leia dois valores inteiros e escreva se eles estão em ordem\n",
        "crescente, decrescente ou são iguais, após isso escreva todos os valores do menor ao maior."
      ],
      "metadata": {
        "id": "4PFhijdD5E3p"
      }
    },
    {
      "cell_type": "code",
      "source": [
        "num1 = int(input('Insira um número'))\n",
        "num2 = int(input('Insira outro número'))\n",
        "if(num1 > num2):\n",
        "  print('Os números estão em ordem decrescente')\n",
        "  print('\\n')\n",
        "  print('Do menor para o maior: ', num2, ' ', num1)\n",
        "elif(num2 > num1):\n",
        "  print('Os números estão em ordem crescente')\n",
        "  print('\\n')\n",
        "  print('Do menor para o maior: ', num1, ' ', num2)\n",
        "else:\n",
        "  print('Os números são iguais')\n",
        "\n"
      ],
      "metadata": {
        "colab": {
          "base_uri": "https://localhost:8080/"
        },
        "id": "QYoA1_Mm5GUe",
        "outputId": "b8abac1a-a267-4c57-a035-4414cb53138f"
      },
      "execution_count": null,
      "outputs": [
        {
          "output_type": "stream",
          "name": "stdout",
          "text": [
            "Insira um número1\n",
            "Insira outro número2\n",
            "Os números estão em ordem crescente\n",
            "\n",
            "\n",
            "Do menor para o maior:  1   2\n"
          ]
        }
      ]
    },
    {
      "cell_type": "markdown",
      "source": [
        "14. Escrever um programa em Python que lê 10 valores para n, um de cada vez, todos inteiros e\n",
        "positivos, e para cada n lido, escreva a tabuada de 1 até n de n.\n",
        "\n",
        "* 1 x n = n\n",
        "* 2 x n = 2n\n",
        "* ...\n",
        "* n x n = n"
      ],
      "metadata": {
        "id": "MxvaGUHs68kA"
      }
    },
    {
      "cell_type": "code",
      "source": [
        "for k in range (10):\n",
        "  n = int(input('Insira um número ('+ str(k)+')'))\n",
        "  for i in range (0, 11):\n",
        "    print(n, ' * ', i, ' = ', i*n)\n",
        "  print('\\n')"
      ],
      "metadata": {
        "colab": {
          "base_uri": "https://localhost:8080/",
          "height": 599
        },
        "id": "OqzxupzY7Brn",
        "outputId": "823fbf8c-0505-4856-97be-4fc1f2aa2f32"
      },
      "execution_count": null,
      "outputs": [
        {
          "output_type": "stream",
          "name": "stdout",
          "text": [
            "Insira um número (0)1\n",
            "1  *  0  =  0\n",
            "1  *  1  =  1\n",
            "1  *  2  =  2\n",
            "1  *  3  =  3\n",
            "1  *  4  =  4\n",
            "1  *  5  =  5\n",
            "1  *  6  =  6\n",
            "1  *  7  =  7\n",
            "1  *  8  =  8\n",
            "1  *  9  =  9\n",
            "1  *  10  =  10\n",
            "\n",
            "\n"
          ]
        },
        {
          "output_type": "error",
          "ename": "KeyboardInterrupt",
          "evalue": "Interrupted by user",
          "traceback": [
            "\u001b[0;31m---------------------------------------------------------------------------\u001b[0m",
            "\u001b[0;31mKeyboardInterrupt\u001b[0m                         Traceback (most recent call last)",
            "\u001b[0;32m<ipython-input-114-a5ac62b4097b>\u001b[0m in \u001b[0;36m<cell line: 0>\u001b[0;34m()\u001b[0m\n\u001b[1;32m      1\u001b[0m \u001b[0;32mfor\u001b[0m \u001b[0mk\u001b[0m \u001b[0;32min\u001b[0m \u001b[0mrange\u001b[0m \u001b[0;34m(\u001b[0m\u001b[0;36m10\u001b[0m\u001b[0;34m)\u001b[0m\u001b[0;34m:\u001b[0m\u001b[0;34m\u001b[0m\u001b[0;34m\u001b[0m\u001b[0m\n\u001b[0;32m----> 2\u001b[0;31m   \u001b[0mn\u001b[0m \u001b[0;34m=\u001b[0m \u001b[0mint\u001b[0m\u001b[0;34m(\u001b[0m\u001b[0minput\u001b[0m\u001b[0;34m(\u001b[0m\u001b[0;34m'Insira um número ('\u001b[0m\u001b[0;34m+\u001b[0m \u001b[0mstr\u001b[0m\u001b[0;34m(\u001b[0m\u001b[0mk\u001b[0m\u001b[0;34m)\u001b[0m\u001b[0;34m+\u001b[0m\u001b[0;34m')'\u001b[0m\u001b[0;34m)\u001b[0m\u001b[0;34m)\u001b[0m\u001b[0;34m\u001b[0m\u001b[0;34m\u001b[0m\u001b[0m\n\u001b[0m\u001b[1;32m      3\u001b[0m   \u001b[0;32mfor\u001b[0m \u001b[0mi\u001b[0m \u001b[0;32min\u001b[0m \u001b[0mrange\u001b[0m \u001b[0;34m(\u001b[0m\u001b[0;36m0\u001b[0m\u001b[0;34m,\u001b[0m \u001b[0;36m11\u001b[0m\u001b[0;34m)\u001b[0m\u001b[0;34m:\u001b[0m\u001b[0;34m\u001b[0m\u001b[0;34m\u001b[0m\u001b[0m\n\u001b[1;32m      4\u001b[0m     \u001b[0mprint\u001b[0m\u001b[0;34m(\u001b[0m\u001b[0mn\u001b[0m\u001b[0;34m,\u001b[0m \u001b[0;34m' * '\u001b[0m\u001b[0;34m,\u001b[0m \u001b[0mi\u001b[0m\u001b[0;34m,\u001b[0m \u001b[0;34m' = '\u001b[0m\u001b[0;34m,\u001b[0m \u001b[0mi\u001b[0m\u001b[0;34m*\u001b[0m\u001b[0mn\u001b[0m\u001b[0;34m)\u001b[0m\u001b[0;34m\u001b[0m\u001b[0;34m\u001b[0m\u001b[0m\n\u001b[1;32m      5\u001b[0m   \u001b[0mprint\u001b[0m\u001b[0;34m(\u001b[0m\u001b[0;34m'\\n'\u001b[0m\u001b[0;34m)\u001b[0m\u001b[0;34m\u001b[0m\u001b[0;34m\u001b[0m\u001b[0m\n",
            "\u001b[0;32m/usr/local/lib/python3.11/dist-packages/ipykernel/kernelbase.py\u001b[0m in \u001b[0;36mraw_input\u001b[0;34m(self, prompt)\u001b[0m\n\u001b[1;32m   1175\u001b[0m                 \u001b[0;34m\"raw_input was called, but this frontend does not support input requests.\"\u001b[0m\u001b[0;34m\u001b[0m\u001b[0;34m\u001b[0m\u001b[0m\n\u001b[1;32m   1176\u001b[0m             )\n\u001b[0;32m-> 1177\u001b[0;31m         return self._input_request(\n\u001b[0m\u001b[1;32m   1178\u001b[0m             \u001b[0mstr\u001b[0m\u001b[0;34m(\u001b[0m\u001b[0mprompt\u001b[0m\u001b[0;34m)\u001b[0m\u001b[0;34m,\u001b[0m\u001b[0;34m\u001b[0m\u001b[0;34m\u001b[0m\u001b[0m\n\u001b[1;32m   1179\u001b[0m             \u001b[0mself\u001b[0m\u001b[0;34m.\u001b[0m\u001b[0m_parent_ident\u001b[0m\u001b[0;34m[\u001b[0m\u001b[0;34m\"shell\"\u001b[0m\u001b[0;34m]\u001b[0m\u001b[0;34m,\u001b[0m\u001b[0;34m\u001b[0m\u001b[0;34m\u001b[0m\u001b[0m\n",
            "\u001b[0;32m/usr/local/lib/python3.11/dist-packages/ipykernel/kernelbase.py\u001b[0m in \u001b[0;36m_input_request\u001b[0;34m(self, prompt, ident, parent, password)\u001b[0m\n\u001b[1;32m   1217\u001b[0m             \u001b[0;32mexcept\u001b[0m \u001b[0mKeyboardInterrupt\u001b[0m\u001b[0;34m:\u001b[0m\u001b[0;34m\u001b[0m\u001b[0;34m\u001b[0m\u001b[0m\n\u001b[1;32m   1218\u001b[0m                 \u001b[0;31m# re-raise KeyboardInterrupt, to truncate traceback\u001b[0m\u001b[0;34m\u001b[0m\u001b[0;34m\u001b[0m\u001b[0m\n\u001b[0;32m-> 1219\u001b[0;31m                 \u001b[0;32mraise\u001b[0m \u001b[0mKeyboardInterrupt\u001b[0m\u001b[0;34m(\u001b[0m\u001b[0;34m\"Interrupted by user\"\u001b[0m\u001b[0;34m)\u001b[0m \u001b[0;32mfrom\u001b[0m \u001b[0;32mNone\u001b[0m\u001b[0;34m\u001b[0m\u001b[0;34m\u001b[0m\u001b[0m\n\u001b[0m\u001b[1;32m   1220\u001b[0m             \u001b[0;32mexcept\u001b[0m \u001b[0mException\u001b[0m\u001b[0;34m:\u001b[0m\u001b[0;34m\u001b[0m\u001b[0;34m\u001b[0m\u001b[0m\n\u001b[1;32m   1221\u001b[0m                 \u001b[0mself\u001b[0m\u001b[0;34m.\u001b[0m\u001b[0mlog\u001b[0m\u001b[0;34m.\u001b[0m\u001b[0mwarning\u001b[0m\u001b[0;34m(\u001b[0m\u001b[0;34m\"Invalid Message:\"\u001b[0m\u001b[0;34m,\u001b[0m \u001b[0mexc_info\u001b[0m\u001b[0;34m=\u001b[0m\u001b[0;32mTrue\u001b[0m\u001b[0;34m)\u001b[0m\u001b[0;34m\u001b[0m\u001b[0;34m\u001b[0m\u001b[0m\n",
            "\u001b[0;31mKeyboardInterrupt\u001b[0m: Interrupted by user"
          ]
        }
      ]
    },
    {
      "cell_type": "markdown",
      "source": [
        "1 - Escreva um programa que lê um número inteiro N do usuário. O programa deverá escrever na\n",
        "tela o fatorial desse número (N!).\n",
        "* Exemplo de entrada:\n",
        "* 5\n",
        "* Saída:\n",
        "* 120\n",
        "* Exemplo de entrada:\n",
        "* 8\n",
        "* Saída:\n",
        "* 40320"
      ],
      "metadata": {
        "id": "Y0cyXqQL8rud"
      }
    },
    {
      "cell_type": "code",
      "source": [
        "num = int(input('Insira um número'))\n",
        "res = 1;\n",
        "\n",
        "for i in range (1, num+1):\n",
        "  res *= i\n",
        "  print(i)\n",
        "print(res)"
      ],
      "metadata": {
        "colab": {
          "base_uri": "https://localhost:8080/"
        },
        "id": "eG8TirCe8zcL",
        "outputId": "533e2627-b795-41fc-bec8-3e88546c0403"
      },
      "execution_count": null,
      "outputs": [
        {
          "output_type": "stream",
          "name": "stdout",
          "text": [
            "Insira um número5\n",
            "1\n",
            "2\n",
            "3\n",
            "4\n",
            "5\n",
            "120\n"
          ]
        }
      ]
    },
    {
      "cell_type": "markdown",
      "source": [
        "2 - Escreva um programa para uma urna eletrônica. O programa fica lendo os votos até que o\n",
        "usuário informe o valor 4444444 (código de finalização da urna). Após a finalização da urna, o\n",
        "programa deverá escrever na tela a quantidade de votos e o percentual de votos para cada uma\n",
        "das opções abaixo:\n",
        "a. Votos no Candidato 77\n",
        "b. Votos no Candidato 39\n",
        "c. Votos no Candidato 66\n",
        "d. Voto em branco (0)\n",
        "e. Votos nulos (nenhuma das opções anteriores)\n",
        "f. Votos válidos (aqueles computados para algum candidato)\n",
        "g. Votos não válidos"
      ],
      "metadata": {
        "id": "N83xWjUeplTv"
      }
    },
    {
      "cell_type": "code",
      "source": [
        "import time\n",
        "cand77 = 0\n",
        "cand77 = 0\n",
        "cand39 = 0\n",
        "cand66 = 0\n",
        "nulo = 0\n",
        "voto = 0\n",
        "branco = 0\n",
        "while(voto != 4444444):\n",
        "  voto = int(input(\"Digite seu voto\"))\n",
        "  match(voto):\n",
        "    case 77:\n",
        "      cand77 +=1\n",
        "      print('Você votou no candidato 77')\n",
        "    case 39:\n",
        "     cand39 +=1\n",
        "     print('Você votou no candidato 39')\n",
        "    case 66:\n",
        "      cand66+=1\n",
        "      print('Você votou no candidato 66')\n",
        "    case 0:\n",
        "      branco +=1\n",
        "      print('Você votou em branco')\n",
        "    case 4444444:\n",
        "      break\n",
        "    case _:\n",
        "      nulo +=1\n",
        "      print('Você votou nulo')\n",
        "  print('\\n')\n",
        "  time.sleep(2)\n",
        "\n",
        "votos_validos = cand77 + cand39 + cand66\n",
        "print('\\n')\n",
        "print('Votos no candidato 77: ', cand77)\n",
        "print('Votos no candidato 39: ', cand39)\n",
        "print('Votos no candidato 66: ', cand66)\n",
        "print('Votos em branco: ', branco)\n",
        "print('Votos válidos: ', votos_validos)\n",
        "\n"
      ],
      "metadata": {
        "colab": {
          "base_uri": "https://localhost:8080/"
        },
        "id": "7FEa39ispm9U",
        "outputId": "d87ead06-f293-4cb6-aa78-be30e0acfb38"
      },
      "execution_count": null,
      "outputs": [
        {
          "output_type": "stream",
          "name": "stdout",
          "text": [
            "Digite seu voto0\n",
            "Você votou em branco\n",
            "\n",
            "\n",
            "Digite seu voto1\n",
            "Você votou nulo\n",
            "\n",
            "\n",
            "Digite seu voto66\n",
            "Você votou no candidato 66\n",
            "\n",
            "\n",
            "Digite seu voto4444444\n",
            "39\n",
            "\n",
            "Votos no candidato 77:  0\n",
            "Votos no candidato 39:  0\n",
            "Votos no candidato 66:  1\n",
            "Votos em branco:  1\n",
            "Votos válidos:  1\n"
          ]
        }
      ]
    }
  ]
}