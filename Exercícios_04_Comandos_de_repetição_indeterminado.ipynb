{
  "cells": [
    {
      "cell_type": "markdown",
      "metadata": {
        "id": "dB1mh5ShDEgT"
      },
      "source": [
        "1 - Faça um algoritmo em Python que leia a nota de vários alunos de uma turma. Ao final, deve ser\n",
        "escrita a média geral da turma. A leitura das médias somente encerra quando uma nota negativa\n",
        "for digitada."
      ]
    },
    {
      "cell_type": "code",
      "execution_count": null,
      "metadata": {
        "colab": {
          "base_uri": "https://localhost:8080/"
        },
        "id": "Hr_jAatFCgdU",
        "outputId": "ce970bea-bd84-4102-eb1b-0427f09b0b8e"
      },
      "outputs": [
        {
          "name": "stdout",
          "output_type": "stream",
          "text": [
            "Insira a nota do 1 ° aluno10\n",
            "Insira a nota do 2 ° aluno0\n",
            "Insira a nota do 3 ° aluno-3\n",
            "\n",
            "A média da turma foi:  5.00\n"
          ]
        }
      ],
      "source": [
        "nota = 0\n",
        "soma = 0\n",
        "soma_notas = 0\n",
        "i = 0\n",
        "while(nota >= 0):\n",
        "\n",
        "  nota = int(input('Insira a nota do '+str(i+1)+' ° aluno'))\n",
        "  if(nota < 0):\n",
        "    break\n",
        "  soma_notas += nota\n",
        "  i+=1\n",
        "MD = soma_notas/i\n",
        "print(f'\\nA média da turma foi: {MD: .2f}')"
      ]
    },
    {
      "cell_type": "markdown",
      "metadata": {
        "id": "QncTEZD4FfmT"
      },
      "source": [
        "2 - Faça um programa em Python para repetir a leitura de um número enquanto o valor fornecido for\n",
        "diferente de 0. Para cada número fornecido, escrever se ele é NEGATIVO ou POSITIVO. Quando\n",
        "o número 0 for fornecido o algoritmo deve encerrar informando o usuário."
      ]
    },
    {
      "cell_type": "code",
      "execution_count": null,
      "metadata": {
        "colab": {
          "base_uri": "https://localhost:8080/"
        },
        "id": "OlbS3RzfFhcy",
        "outputId": "b4b3a15c-674b-43d6-a707-9c48cc29be54"
      },
      "outputs": [
        {
          "name": "stdout",
          "output_type": "stream",
          "text": [
            "Insira um número1\n",
            "O número é positivo\n",
            "\n",
            "Insira um número2\n",
            "O número é positivo\n",
            "\n",
            "Insira um número3\n",
            "O número é positivo\n",
            "\n",
            "Insira um número-1\n",
            "O número é negativo\n",
            "\n",
            "Insira um número-2\n",
            "O número é negativo\n",
            "\n",
            "Insira um número0\n",
            "Programa encerrado.\n"
          ]
        }
      ],
      "source": [
        "num = 1\n",
        "while (num != 0):\n",
        "  num = float(input('Insira um número'))\n",
        "  if(num != 0):\n",
        "    if(num > 0):\n",
        "      print('O número é positivo\\n')\n",
        "    elif(num < 0):\n",
        "      print('O número é negativo\\n')\n",
        "  else:\n",
        "    print('Programa encerrado.')"
      ]
    },
    {
      "cell_type": "markdown",
      "metadata": {
        "id": "mcrB2_UiHay1"
      },
      "source": [
        "3 - Sabe-se que não existe divisão por zero, para isso faça um programa que leia dois valores inteiros\n",
        "e escreva o resultado da divisão do primeiro pelo segundo. Se o segundo valor informado for\n",
        "ZERO, deve ser impressa uma mensagem de VALOR INVÁLIDO e uma nova leitura do segundo\n",
        "valor deve ser realizada. Ao final do programa deve ser impressa a seguinte mensagem: VOCÊ\n",
        "DESEJA OUTRO CÁLCULO (S/N). Se a resposta for S o programa deverá retornar ao começo,\n",
        "caso contrário deverá encerrar."
      ]
    },
    {
      "cell_type": "code",
      "execution_count": null,
      "metadata": {
        "colab": {
          "base_uri": "https://localhost:8080/"
        },
        "id": "8I9GFwWsHeAE",
        "outputId": "4383ea1d-f078-4ab1-84d7-0c6d843e8fb4"
      },
      "outputs": [
        {
          "name": "stdout",
          "output_type": "stream",
          "text": [
            "Digite o primeiro valor1\n",
            "Digite o segundo valor2\n",
            "1  /  2  =  0.5  \n",
            "Você deseja outro cálculo? (S/N)S\n",
            "Digite o primeiro valor1\n",
            "Digite o segundo valor0\n",
            "Valor inválido. Digite o outro valor para o divisor0\n",
            "Valor inválido. Digite o outro valor para o divisor0\n",
            "Valor inválido. Digite o outro valor para o divisor1\n",
            "1  /  1  =  1.0  \n",
            "Você deseja outro cálculo? (S/N)S\n",
            "Digite o primeiro valor0\n",
            "Digite o segundo valor1\n",
            "0  /  1  =  0.0  \n",
            "Você deseja outro cálculo? (S/N)N\n",
            "Programa encerrado.\n"
          ]
        }
      ],
      "source": [
        "res = 'S'\n",
        "while(res == 'S'):\n",
        "  num1 = int(input('Digite o primeiro valor'))\n",
        "  num2 = int(input('Digite o segundo valor'))\n",
        "  while(num2 == 0):\n",
        "    num2 = int(input('Valor inválido. Digite o outro valor para o divisor'))\n",
        "  print(num1, ' / ', num2, ' = ', num1/num2, ' ')\n",
        "  res = input('Você deseja outro cálculo? (S/N)')\n",
        "\n",
        "print('\\nPrograma encerrado.')\n"
      ]
    },
    {
      "cell_type": "markdown",
      "metadata": {
        "id": "iDtO8_AGKLLW"
      },
      "source": [
        "5 - Faça um programa em Python que verifique a validade de uma senha fornecida pelo usuário. A\n",
        "senha válida é o número 1234.\n",
        "OBS: Se a senha informada pelo usuário for inválida, a mensagem \"ACESSO NEGADO\" deve\n",
        "ser impressa e repetida a solicitação de uma nova senha até que ela seja válida. Caso\n",
        "contrário deve ser impressa a mensagem \"ACESSO PERMITIDO\" junto com um número\n",
        "que representa quantas vezes a senha foi informada."
      ]
    },
    {
      "cell_type": "code",
      "execution_count": null,
      "metadata": {
        "colab": {
          "base_uri": "https://localhost:8080/"
        },
        "id": "r2MN7QoCKK2u",
        "outputId": "af637cec-fe97-4953-9063-03eb11a301c8"
      },
      "outputs": [
        {
          "output_type": "stream",
          "name": "stdout",
          "text": [
            "Insira sua senha1235\n",
            "Senha inválida. Acesso negado.\n",
            "Insira sua senha novamente1234\n",
            "\n",
            "Acesso permitido. Número de tentativas:  2\n"
          ]
        }
      ],
      "source": [
        "i = 1\n",
        "senha = (input('Insira sua senha'))\n",
        "while (senha != '1234'):\n",
        "  i+=1\n",
        "  if(senha != 1234):\n",
        "     print('Senha inválida. Acesso negado.')\n",
        "  senha = (input('Insira sua senha novamente'))\n",
        "\n",
        "print('\\nAcesso permitido. Número de tentativas: ', i)\n"
      ]
    },
    {
      "cell_type": "markdown",
      "metadata": {
        "id": "BH6NdhIhHdq8"
      },
      "source": []
    }
  ],
  "metadata": {
    "colab": {
      "provenance": [],
      "authorship_tag": "ABX9TyMM+SJZLcpIrRK30HVsZ2pS"
    },
    "kernelspec": {
      "display_name": "Python 3",
      "name": "python3"
    },
    "language_info": {
      "name": "python"
    }
  },
  "nbformat": 4,
  "nbformat_minor": 0
}